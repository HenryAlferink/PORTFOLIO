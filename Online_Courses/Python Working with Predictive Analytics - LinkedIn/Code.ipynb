{
 "cells": [
  {
   "cell_type": "markdown",
   "metadata": {},
   "source": [
    "### LinkedIn Learning Course:\n",
    "# Python: Working with Predictive Analytics\n",
    "https://www.linkedin.com/learning/python-working-with-predictive-analytics/predict-data-in-python\n",
    "\n",
    "**Course Author:** Isil Berkun\n",
    "\n",
    "This notebook is the course content put into my own words/code."
   ]
  },
  {
   "cell_type": "code",
   "execution_count": 23,
   "metadata": {},
   "outputs": [],
   "source": [
    "import pandas as pd\n",
    "import numpy as np\n",
    "import matplotlib.pyplot as plt\n",
    "\n",
    "from sklearn.model_selection import (\n",
    "    train_test_split,\n",
    "    GridSearchCV\n",
    ")\n",
    "\n",
    "from sklearn.preprocessing import (\n",
    "    MinMaxScaler, \n",
    "    StandardScaler, \n",
    "    OneHotEncoder, \n",
    "    LabelEncoder, \n",
    "    PolynomialFeatures\n",
    ")\n",
    "\n",
    "from sklearn.impute import SimpleImputer\n",
    "\n",
    "from sklearn.linear_model import LinearRegression\n",
    "\n",
    "from sklearn.svm import SVR\n",
    "\n",
    "from sklearn.tree import DecisionTreeRegressor\n",
    "\n",
    "from sklearn.ensemble import RandomForestRegressor"
   ]
  },
  {
   "cell_type": "markdown",
   "metadata": {},
   "source": [
    "### Convenience functions"
   ]
  },
  {
   "cell_type": "code",
   "execution_count": 24,
   "metadata": {},
   "outputs": [],
   "source": [
    "from IPython.display import display\n",
    "\n",
    "def eg(obj, msg=None):\n",
    "    \"\"\"Convenience function for displaying output.\"\"\"\n",
    "    print()\n",
    "    if msg:\n",
    "        print(msg)\n",
    "    else:\n",
    "        print(\"E.g.\")\n",
    "    display(obj)\n",
    "\n",
    "def split_and_scale(X, y, random_state=None):\n",
    "    \"\"\"Convenience function used to split the data into test and train sets, and to scale the independent variables.\"\"\"\n",
    "    if random_state:\n",
    "        X_train, X_test, y_train, y_test = train_test_split(X, y, test_size=0.33, random_state=random_state)\n",
    "    else:\n",
    "        X_train, X_test, y_train, y_test = train_test_split(X, y, test_size=0.33)\n",
    "    \n",
    "    # standardize features: take away the mean, and scale to unit variance\n",
    "    sc = StandardScaler()\n",
    "    X_train = sc.fit_transform(X_train.astype(np.float))\n",
    "    X_test= sc.transform(X_test.astype(np.float))\n",
    "\n",
    "    return X_train, X_test, y_train, y_test"
   ]
  },
  {
   "cell_type": "markdown",
   "metadata": {},
   "source": [
    "## Setup and data preparation"
   ]
  },
  {
   "cell_type": "code",
   "execution_count": 25,
   "metadata": {},
   "outputs": [],
   "source": [
    "# import data\n",
    "data = pd.read_csv(\"Exercise Files/Datasets/insurance.csv\")"
   ]
  },
  {
   "cell_type": "code",
   "execution_count": 26,
   "metadata": {},
   "outputs": [
    {
     "data": {
      "text/plain": [
       "age         0\n",
       "sex         0\n",
       "bmi         5\n",
       "children    0\n",
       "smoker      0\n",
       "region      0\n",
       "charges     0\n",
       "dtype: int64"
      ]
     },
     "execution_count": 26,
     "metadata": {},
     "output_type": "execute_result"
    }
   ],
   "source": [
    "# return a Series object that shows how many null values (e.g. NaN's) each column has. \n",
    "count_nan = data.isnull().sum()\n",
    "count_nan"
   ]
  },
  {
   "cell_type": "code",
   "execution_count": 27,
   "metadata": {},
   "outputs": [
    {
     "data": {
      "text/plain": [
       "bmi    5\n",
       "dtype: int64"
      ]
     },
     "execution_count": 27,
     "metadata": {},
     "output_type": "execute_result"
    }
   ],
   "source": [
    "count_nan[count_nan > 0]"
   ]
  },
  {
   "cell_type": "markdown",
   "metadata": {},
   "source": [
    "### IMPUTATION:\n",
    "Here we fill the NaN values with the column mean"
   ]
  },
  {
   "cell_type": "code",
   "execution_count": 28,
   "metadata": {},
   "outputs": [
    {
     "name": "stdout",
     "output_type": "stream",
     "text": [
      "Now there are no NaN values remaining:\n"
     ]
    },
    {
     "data": {
      "text/plain": [
       "Series([], dtype: int64)"
      ]
     },
     "execution_count": 28,
     "metadata": {},
     "output_type": "execute_result"
    }
   ],
   "source": [
    "# fill the nan values with the column mean\n",
    "data['bmi'].fillna(data['bmi'].mean(), inplace=True)\n",
    "count_nan = data.isnull().sum()\n",
    "\n",
    "print(\"Now there are no NaN values remaining:\")\n",
    "count_nan[count_nan > 0]"
   ]
  },
  {
   "cell_type": "code",
   "execution_count": 29,
   "metadata": {},
   "outputs": [
    {
     "name": "stdout",
     "output_type": "stream",
     "text": [
      "\n",
      "An example of categorical variables:\n"
     ]
    },
    {
     "data": {
      "text/html": [
       "<div>\n",
       "<style scoped>\n",
       "    .dataframe tbody tr th:only-of-type {\n",
       "        vertical-align: middle;\n",
       "    }\n",
       "\n",
       "    .dataframe tbody tr th {\n",
       "        vertical-align: top;\n",
       "    }\n",
       "\n",
       "    .dataframe thead th {\n",
       "        text-align: right;\n",
       "    }\n",
       "</style>\n",
       "<table border=\"1\" class=\"dataframe\">\n",
       "  <thead>\n",
       "    <tr style=\"text-align: right;\">\n",
       "      <th></th>\n",
       "      <th>sex</th>\n",
       "      <th>smoker</th>\n",
       "    </tr>\n",
       "  </thead>\n",
       "  <tbody>\n",
       "    <tr>\n",
       "      <th>0</th>\n",
       "      <td>female</td>\n",
       "      <td>yes</td>\n",
       "    </tr>\n",
       "    <tr>\n",
       "      <th>1</th>\n",
       "      <td>male</td>\n",
       "      <td>no</td>\n",
       "    </tr>\n",
       "    <tr>\n",
       "      <th>2</th>\n",
       "      <td>male</td>\n",
       "      <td>no</td>\n",
       "    </tr>\n",
       "    <tr>\n",
       "      <th>3</th>\n",
       "      <td>male</td>\n",
       "      <td>no</td>\n",
       "    </tr>\n",
       "    <tr>\n",
       "      <th>4</th>\n",
       "      <td>male</td>\n",
       "      <td>no</td>\n",
       "    </tr>\n",
       "    <tr>\n",
       "      <th>...</th>\n",
       "      <td>...</td>\n",
       "      <td>...</td>\n",
       "    </tr>\n",
       "    <tr>\n",
       "      <th>1333</th>\n",
       "      <td>male</td>\n",
       "      <td>no</td>\n",
       "    </tr>\n",
       "    <tr>\n",
       "      <th>1334</th>\n",
       "      <td>female</td>\n",
       "      <td>no</td>\n",
       "    </tr>\n",
       "    <tr>\n",
       "      <th>1335</th>\n",
       "      <td>female</td>\n",
       "      <td>no</td>\n",
       "    </tr>\n",
       "    <tr>\n",
       "      <th>1336</th>\n",
       "      <td>female</td>\n",
       "      <td>no</td>\n",
       "    </tr>\n",
       "    <tr>\n",
       "      <th>1337</th>\n",
       "      <td>female</td>\n",
       "      <td>yes</td>\n",
       "    </tr>\n",
       "  </tbody>\n",
       "</table>\n",
       "<p>1338 rows × 2 columns</p>\n",
       "</div>"
      ],
      "text/plain": [
       "         sex smoker\n",
       "0     female    yes\n",
       "1       male     no\n",
       "2       male     no\n",
       "3       male     no\n",
       "4       male     no\n",
       "...      ...    ...\n",
       "1333    male     no\n",
       "1334  female     no\n",
       "1335  female     no\n",
       "1336  female     no\n",
       "1337  female    yes\n",
       "\n",
       "[1338 rows x 2 columns]"
      ]
     },
     "metadata": {},
     "output_type": "display_data"
    }
   ],
   "source": [
    "eg(\n",
    "    data.iloc[:, [1,4]], \n",
    "    \"An example of categorical variables:\"\n",
    ")"
   ]
  },
  {
   "cell_type": "code",
   "execution_count": 30,
   "metadata": {},
   "outputs": [
    {
     "name": "stdout",
     "output_type": "stream",
     "text": [
      "[['female']\n",
      " ['male']\n",
      " ['male']\n",
      " ...\n",
      " ['female']\n",
      " ['female']\n",
      " ['female']]\n"
     ]
    }
   ],
   "source": [
    "# turn the above two columns into ndarrays so that we can pass them to sklearn for label encoding.\n",
    "sex = data.iloc[:, 1:2].values\n",
    "smoker = data.iloc[:, 4:5].values\n",
    "print(sex)"
   ]
  },
  {
   "cell_type": "code",
   "execution_count": 31,
   "metadata": {},
   "outputs": [
    {
     "name": "stdout",
     "output_type": "stream",
     "text": [
      "['female' 'male' 'male' ... 'female' 'female' 'female']\n"
     ]
    }
   ],
   "source": [
    "print(sex[:,0])"
   ]
  },
  {
   "cell_type": "markdown",
   "metadata": {},
   "source": [
    "### Encoding the categorical data into numerical\n",
    "This is necessary, as the computer can only work with numerical data."
   ]
  },
  {
   "cell_type": "code",
   "execution_count": 32,
   "metadata": {},
   "outputs": [
    {
     "name": "stdout",
     "output_type": "stream",
     "text": [
      "\n",
      "An example of how the categorical variable has been turned into a numerical one:\n"
     ]
    },
    {
     "data": {
      "text/plain": [
       "array([0, 1, 1, ..., 0, 0, 0])"
      ]
     },
     "metadata": {},
     "output_type": "display_data"
    }
   ],
   "source": [
    "sex = data.iloc[:, 1:2].values\n",
    "\n",
    "# class used to encode categorical features into numerical\n",
    "le = LabelEncoder()\n",
    "\n",
    "eg(\n",
    "    le.fit_transform(sex[:,0]),\n",
    "    \"An example of how the categorical variable has been \"\n",
    "    \"turned into a numerical one:\"\n",
    ")"
   ]
  },
  {
   "cell_type": "code",
   "execution_count": 33,
   "metadata": {},
   "outputs": [],
   "source": [
    "# the reason for the funny indexing is that it turns the array into\n",
    "# a 1D array, and then assigns it to an object of the same shape\n",
    "sex[:,0] = le.fit_transform(sex[:,0])"
   ]
  },
  {
   "cell_type": "code",
   "execution_count": 34,
   "metadata": {},
   "outputs": [
    {
     "name": "stdout",
     "output_type": "stream",
     "text": [
      "\n",
      "The 1D array:\n"
     ]
    },
    {
     "data": {
      "text/plain": [
       "array([0, 1, 1, ..., 0, 0, 0], dtype=object)"
      ]
     },
     "metadata": {},
     "output_type": "display_data"
    },
    {
     "name": "stdout",
     "output_type": "stream",
     "text": [
      "\n",
      "Original array:\n"
     ]
    },
    {
     "data": {
      "text/plain": [
       "array([[0],\n",
       "       [1],\n",
       "       [1],\n",
       "       ...,\n",
       "       [0],\n",
       "       [0],\n",
       "       [0]], dtype=object)"
      ]
     },
     "metadata": {},
     "output_type": "display_data"
    }
   ],
   "source": [
    "eg(\n",
    "    sex[:,0],\n",
    "    \"The 1D array:\"\n",
    ")\n",
    "eg(\n",
    "    sex,\n",
    "    \"Original array:\"\n",
    ")"
   ]
  },
  {
   "cell_type": "code",
   "execution_count": 35,
   "metadata": {},
   "outputs": [
    {
     "data": {
      "text/html": [
       "<div>\n",
       "<style scoped>\n",
       "    .dataframe tbody tr th:only-of-type {\n",
       "        vertical-align: middle;\n",
       "    }\n",
       "\n",
       "    .dataframe tbody tr th {\n",
       "        vertical-align: top;\n",
       "    }\n",
       "\n",
       "    .dataframe thead th {\n",
       "        text-align: right;\n",
       "    }\n",
       "</style>\n",
       "<table border=\"1\" class=\"dataframe\">\n",
       "  <thead>\n",
       "    <tr style=\"text-align: right;\">\n",
       "      <th></th>\n",
       "      <th>sex</th>\n",
       "    </tr>\n",
       "  </thead>\n",
       "  <tbody>\n",
       "    <tr>\n",
       "      <th>0</th>\n",
       "      <td>0</td>\n",
       "    </tr>\n",
       "    <tr>\n",
       "      <th>1</th>\n",
       "      <td>1</td>\n",
       "    </tr>\n",
       "    <tr>\n",
       "      <th>2</th>\n",
       "      <td>1</td>\n",
       "    </tr>\n",
       "    <tr>\n",
       "      <th>3</th>\n",
       "      <td>1</td>\n",
       "    </tr>\n",
       "    <tr>\n",
       "      <th>4</th>\n",
       "      <td>1</td>\n",
       "    </tr>\n",
       "    <tr>\n",
       "      <th>...</th>\n",
       "      <td>...</td>\n",
       "    </tr>\n",
       "    <tr>\n",
       "      <th>1333</th>\n",
       "      <td>1</td>\n",
       "    </tr>\n",
       "    <tr>\n",
       "      <th>1334</th>\n",
       "      <td>0</td>\n",
       "    </tr>\n",
       "    <tr>\n",
       "      <th>1335</th>\n",
       "      <td>0</td>\n",
       "    </tr>\n",
       "    <tr>\n",
       "      <th>1336</th>\n",
       "      <td>0</td>\n",
       "    </tr>\n",
       "    <tr>\n",
       "      <th>1337</th>\n",
       "      <td>0</td>\n",
       "    </tr>\n",
       "  </tbody>\n",
       "</table>\n",
       "<p>1338 rows × 1 columns</p>\n",
       "</div>"
      ],
      "text/plain": [
       "     sex\n",
       "0      0\n",
       "1      1\n",
       "2      1\n",
       "3      1\n",
       "4      1\n",
       "...   ..\n",
       "1333   1\n",
       "1334   0\n",
       "1335   0\n",
       "1336   0\n",
       "1337   0\n",
       "\n",
       "[1338 rows x 1 columns]"
      ]
     },
     "execution_count": 35,
     "metadata": {},
     "output_type": "execute_result"
    }
   ],
   "source": [
    "sex = pd.DataFrame(sex)\n",
    "sex.columns = ['sex']\n",
    "sex"
   ]
  },
  {
   "cell_type": "code",
   "execution_count": 36,
   "metadata": {},
   "outputs": [
    {
     "name": "stdout",
     "output_type": "stream",
     "text": [
      "\n",
      "sex mapping:\n"
     ]
    },
    {
     "data": {
      "text/plain": [
       "{'female': 0, 'male': 1}"
      ]
     },
     "metadata": {},
     "output_type": "display_data"
    }
   ],
   "source": [
    "# related to the above...\n",
    "le_sex_mapping = dict(list(zip(le.classes_, le.transform(le.classes_))))\n",
    "eg(le_sex_mapping, \"sex mapping:\")"
   ]
  },
  {
   "cell_type": "code",
   "execution_count": 37,
   "metadata": {},
   "outputs": [
    {
     "name": "stdout",
     "output_type": "stream",
     "text": [
      "\n",
      "smoker column turned into binary variable:\n"
     ]
    },
    {
     "data": {
      "text/html": [
       "<div>\n",
       "<style scoped>\n",
       "    .dataframe tbody tr th:only-of-type {\n",
       "        vertical-align: middle;\n",
       "    }\n",
       "\n",
       "    .dataframe tbody tr th {\n",
       "        vertical-align: top;\n",
       "    }\n",
       "\n",
       "    .dataframe thead th {\n",
       "        text-align: right;\n",
       "    }\n",
       "</style>\n",
       "<table border=\"1\" class=\"dataframe\">\n",
       "  <thead>\n",
       "    <tr style=\"text-align: right;\">\n",
       "      <th></th>\n",
       "      <th>smoker</th>\n",
       "    </tr>\n",
       "  </thead>\n",
       "  <tbody>\n",
       "    <tr>\n",
       "      <th>0</th>\n",
       "      <td>1</td>\n",
       "    </tr>\n",
       "    <tr>\n",
       "      <th>1</th>\n",
       "      <td>0</td>\n",
       "    </tr>\n",
       "    <tr>\n",
       "      <th>2</th>\n",
       "      <td>0</td>\n",
       "    </tr>\n",
       "    <tr>\n",
       "      <th>3</th>\n",
       "      <td>0</td>\n",
       "    </tr>\n",
       "    <tr>\n",
       "      <th>4</th>\n",
       "      <td>0</td>\n",
       "    </tr>\n",
       "    <tr>\n",
       "      <th>...</th>\n",
       "      <td>...</td>\n",
       "    </tr>\n",
       "    <tr>\n",
       "      <th>1333</th>\n",
       "      <td>0</td>\n",
       "    </tr>\n",
       "    <tr>\n",
       "      <th>1334</th>\n",
       "      <td>0</td>\n",
       "    </tr>\n",
       "    <tr>\n",
       "      <th>1335</th>\n",
       "      <td>0</td>\n",
       "    </tr>\n",
       "    <tr>\n",
       "      <th>1336</th>\n",
       "      <td>0</td>\n",
       "    </tr>\n",
       "    <tr>\n",
       "      <th>1337</th>\n",
       "      <td>1</td>\n",
       "    </tr>\n",
       "  </tbody>\n",
       "</table>\n",
       "<p>1338 rows × 1 columns</p>\n",
       "</div>"
      ],
      "text/plain": [
       "     smoker\n",
       "0         1\n",
       "1         0\n",
       "2         0\n",
       "3         0\n",
       "4         0\n",
       "...     ...\n",
       "1333      0\n",
       "1334      0\n",
       "1335      0\n",
       "1336      0\n",
       "1337      1\n",
       "\n",
       "[1338 rows x 1 columns]"
      ]
     },
     "metadata": {},
     "output_type": "display_data"
    },
    {
     "name": "stdout",
     "output_type": "stream",
     "text": [
      "\n",
      "smoker mapping:\n"
     ]
    },
    {
     "data": {
      "text/plain": [
       "{'no': 0, 'yes': 1}"
      ]
     },
     "metadata": {},
     "output_type": "display_data"
    }
   ],
   "source": [
    "# let's do the same as what we did for the sex column but now for the 'smoker' column\n",
    "\n",
    "smoker = data.iloc[:, 4:5].values\n",
    "\n",
    "le = LabelEncoder()\n",
    "smoker[:,0] = le.fit_transform(smoker[:,0])\n",
    "smoker = pd.DataFrame(smoker, columns=['smoker'])\n",
    "le_smoker_mapping = dict(zip(le.classes_, le.transform(le.classes_)))\n",
    "\n",
    "eg(smoker, \"smoker column turned into binary variable:\")\n",
    "eg(le_smoker_mapping, \"smoker mapping:\")"
   ]
  },
  {
   "cell_type": "markdown",
   "metadata": {},
   "source": [
    "### One-hot encoding\n",
    "The 'region' column of the dataset has more than two categories. Therefore we cannot simply use a binary variable. We will need to use one-hot encoding. This is where we output multiple binary columns, one for each category. E.g. a 1 in the \"southeast\" column and a 0 in the other three will then mean that \"southeast\" is the selected category for the observation."
   ]
  },
  {
   "cell_type": "code",
   "execution_count": 38,
   "metadata": {},
   "outputs": [
    {
     "name": "stdout",
     "output_type": "stream",
     "text": [
      "['southwest' 'southeast' 'northwest' 'northeast']\n"
     ]
    }
   ],
   "source": [
    "print(data['region'].unique())"
   ]
  },
  {
   "cell_type": "code",
   "execution_count": 39,
   "metadata": {},
   "outputs": [
    {
     "data": {
      "text/plain": [
       "array([['southwest'],\n",
       "       ['southeast'],\n",
       "       ['southeast'],\n",
       "       ...,\n",
       "       ['southeast'],\n",
       "       ['southwest'],\n",
       "       ['northwest']], dtype=object)"
      ]
     },
     "execution_count": 39,
     "metadata": {},
     "output_type": "execute_result"
    }
   ],
   "source": [
    "# note that \"[:, np.newaxis]\" applied on the numpy array turns the \n",
    "# 1D array into a 2D array, which is required for the OneHotEncoder class.\n",
    "\n",
    "region_values = data['region'].values[:, np.newaxis]\n",
    "region_values"
   ]
  },
  {
   "cell_type": "code",
   "execution_count": 40,
   "metadata": {},
   "outputs": [
    {
     "data": {
      "text/plain": [
       "array([[0., 0., 0., 1.],\n",
       "       [0., 0., 1., 0.],\n",
       "       [0., 0., 1., 0.],\n",
       "       ...,\n",
       "       [0., 0., 1., 0.],\n",
       "       [0., 0., 0., 1.],\n",
       "       [0., 1., 0., 0.]])"
      ]
     },
     "execution_count": 40,
     "metadata": {},
     "output_type": "execute_result"
    }
   ],
   "source": [
    "region_values = data.iloc[:,5:6].values\n",
    "\n",
    "# one-hot encoded array. One column for each category. (may need to convert to int. It may be\n",
    "# returning floats because there are NaN values somewhere...)\n",
    "ohe = OneHotEncoder()\n",
    "region_encoded = ohe.fit_transform(region_values).toarray()\n",
    "region_encoded"
   ]
  },
  {
   "cell_type": "code",
   "execution_count": 42,
   "metadata": {},
   "outputs": [
    {
     "name": "stdout",
     "output_type": "stream",
     "text": [
      "\n",
      "Note that for some reason it comes surrounded by a Python list:\n"
     ]
    },
    {
     "data": {
      "text/plain": [
       "[array(['northeast', 'northwest', 'southeast', 'southwest'], dtype=object)]"
      ]
     },
     "metadata": {},
     "output_type": "display_data"
    }
   ],
   "source": [
    "eg(\n",
    "    ohe.categories_,\n",
    "    \"Note that for some reason it comes surrounded by a Python list:\"\n",
    ")"
   ]
  },
  {
   "cell_type": "code",
   "execution_count": 43,
   "metadata": {},
   "outputs": [
    {
     "name": "stdout",
     "output_type": "stream",
     "text": [
      "\n",
      "Note they're float values. This is probably because there\n",
      "was a NaN value found somewhere (? didn't we get rid of these?).\n",
      "\"The int type can't handle NaN values, so it's converted to float.\n",
      "Look into converting to pd.Int64Dtype().\n"
     ]
    },
    {
     "data": {
      "text/html": [
       "<div>\n",
       "<style scoped>\n",
       "    .dataframe tbody tr th:only-of-type {\n",
       "        vertical-align: middle;\n",
       "    }\n",
       "\n",
       "    .dataframe tbody tr th {\n",
       "        vertical-align: top;\n",
       "    }\n",
       "\n",
       "    .dataframe thead th {\n",
       "        text-align: right;\n",
       "    }\n",
       "</style>\n",
       "<table border=\"1\" class=\"dataframe\">\n",
       "  <thead>\n",
       "    <tr style=\"text-align: right;\">\n",
       "      <th></th>\n",
       "      <th>northeast</th>\n",
       "      <th>northwest</th>\n",
       "      <th>southeast</th>\n",
       "      <th>southwest</th>\n",
       "    </tr>\n",
       "  </thead>\n",
       "  <tbody>\n",
       "    <tr>\n",
       "      <th>0</th>\n",
       "      <td>0.0</td>\n",
       "      <td>0.0</td>\n",
       "      <td>0.0</td>\n",
       "      <td>1.0</td>\n",
       "    </tr>\n",
       "    <tr>\n",
       "      <th>1</th>\n",
       "      <td>0.0</td>\n",
       "      <td>0.0</td>\n",
       "      <td>1.0</td>\n",
       "      <td>0.0</td>\n",
       "    </tr>\n",
       "    <tr>\n",
       "      <th>2</th>\n",
       "      <td>0.0</td>\n",
       "      <td>0.0</td>\n",
       "      <td>1.0</td>\n",
       "      <td>0.0</td>\n",
       "    </tr>\n",
       "    <tr>\n",
       "      <th>3</th>\n",
       "      <td>0.0</td>\n",
       "      <td>1.0</td>\n",
       "      <td>0.0</td>\n",
       "      <td>0.0</td>\n",
       "    </tr>\n",
       "    <tr>\n",
       "      <th>4</th>\n",
       "      <td>0.0</td>\n",
       "      <td>1.0</td>\n",
       "      <td>0.0</td>\n",
       "      <td>0.0</td>\n",
       "    </tr>\n",
       "    <tr>\n",
       "      <th>...</th>\n",
       "      <td>...</td>\n",
       "      <td>...</td>\n",
       "      <td>...</td>\n",
       "      <td>...</td>\n",
       "    </tr>\n",
       "    <tr>\n",
       "      <th>1333</th>\n",
       "      <td>0.0</td>\n",
       "      <td>1.0</td>\n",
       "      <td>0.0</td>\n",
       "      <td>0.0</td>\n",
       "    </tr>\n",
       "    <tr>\n",
       "      <th>1334</th>\n",
       "      <td>1.0</td>\n",
       "      <td>0.0</td>\n",
       "      <td>0.0</td>\n",
       "      <td>0.0</td>\n",
       "    </tr>\n",
       "    <tr>\n",
       "      <th>1335</th>\n",
       "      <td>0.0</td>\n",
       "      <td>0.0</td>\n",
       "      <td>1.0</td>\n",
       "      <td>0.0</td>\n",
       "    </tr>\n",
       "    <tr>\n",
       "      <th>1336</th>\n",
       "      <td>0.0</td>\n",
       "      <td>0.0</td>\n",
       "      <td>0.0</td>\n",
       "      <td>1.0</td>\n",
       "    </tr>\n",
       "    <tr>\n",
       "      <th>1337</th>\n",
       "      <td>0.0</td>\n",
       "      <td>1.0</td>\n",
       "      <td>0.0</td>\n",
       "      <td>0.0</td>\n",
       "    </tr>\n",
       "  </tbody>\n",
       "</table>\n",
       "<p>1338 rows × 4 columns</p>\n",
       "</div>"
      ],
      "text/plain": [
       "      northeast  northwest  southeast  southwest\n",
       "0           0.0        0.0        0.0        1.0\n",
       "1           0.0        0.0        1.0        0.0\n",
       "2           0.0        0.0        1.0        0.0\n",
       "3           0.0        1.0        0.0        0.0\n",
       "4           0.0        1.0        0.0        0.0\n",
       "...         ...        ...        ...        ...\n",
       "1333        0.0        1.0        0.0        0.0\n",
       "1334        1.0        0.0        0.0        0.0\n",
       "1335        0.0        0.0        1.0        0.0\n",
       "1336        0.0        0.0        0.0        1.0\n",
       "1337        0.0        1.0        0.0        0.0\n",
       "\n",
       "[1338 rows x 4 columns]"
      ]
     },
     "metadata": {},
     "output_type": "display_data"
    }
   ],
   "source": [
    "region = pd.DataFrame(region_encoded, columns=ohe.categories_[0])\n",
    "eg(\n",
    "    region,\n",
    "    \"\"\"Note they're float values. This is probably because there\n",
    "was a NaN value found somewhere (? didn't we get rid of these?).\n",
    "\"The int type can't handle NaN values, so it's converted to float.\n",
    "Look into converting to pd.Int64Dtype().\"\"\"\n",
    ")"
   ]
  },
  {
   "cell_type": "markdown",
   "metadata": {},
   "source": [
    "### PUTTING THINGS TOGETHER\n",
    "Put all cleaned features back into one dataframe. Here we also split into training and test sets."
   ]
  },
  {
   "cell_type": "code",
   "execution_count": 44,
   "metadata": {
    "scrolled": false
   },
   "outputs": [
    {
     "data": {
      "text/html": [
       "<div>\n",
       "<style scoped>\n",
       "    .dataframe tbody tr th:only-of-type {\n",
       "        vertical-align: middle;\n",
       "    }\n",
       "\n",
       "    .dataframe tbody tr th {\n",
       "        vertical-align: top;\n",
       "    }\n",
       "\n",
       "    .dataframe thead th {\n",
       "        text-align: right;\n",
       "    }\n",
       "</style>\n",
       "<table border=\"1\" class=\"dataframe\">\n",
       "  <thead>\n",
       "    <tr style=\"text-align: right;\">\n",
       "      <th></th>\n",
       "      <th>age</th>\n",
       "      <th>bmi</th>\n",
       "      <th>children</th>\n",
       "      <th>northeast</th>\n",
       "      <th>northwest</th>\n",
       "      <th>southeast</th>\n",
       "      <th>southwest</th>\n",
       "      <th>sex</th>\n",
       "      <th>smoker</th>\n",
       "    </tr>\n",
       "  </thead>\n",
       "  <tbody>\n",
       "    <tr>\n",
       "      <th>1271</th>\n",
       "      <td>25</td>\n",
       "      <td>34.485</td>\n",
       "      <td>0</td>\n",
       "      <td>0.0</td>\n",
       "      <td>1.0</td>\n",
       "      <td>0.0</td>\n",
       "      <td>0.0</td>\n",
       "      <td>0</td>\n",
       "      <td>0</td>\n",
       "    </tr>\n",
       "    <tr>\n",
       "      <th>1313</th>\n",
       "      <td>19</td>\n",
       "      <td>34.700</td>\n",
       "      <td>2</td>\n",
       "      <td>0.0</td>\n",
       "      <td>0.0</td>\n",
       "      <td>0.0</td>\n",
       "      <td>1.0</td>\n",
       "      <td>0</td>\n",
       "      <td>1</td>\n",
       "    </tr>\n",
       "    <tr>\n",
       "      <th>2</th>\n",
       "      <td>28</td>\n",
       "      <td>33.000</td>\n",
       "      <td>3</td>\n",
       "      <td>0.0</td>\n",
       "      <td>0.0</td>\n",
       "      <td>1.0</td>\n",
       "      <td>0.0</td>\n",
       "      <td>1</td>\n",
       "      <td>0</td>\n",
       "    </tr>\n",
       "    <tr>\n",
       "      <th>405</th>\n",
       "      <td>52</td>\n",
       "      <td>38.380</td>\n",
       "      <td>2</td>\n",
       "      <td>1.0</td>\n",
       "      <td>0.0</td>\n",
       "      <td>0.0</td>\n",
       "      <td>0.0</td>\n",
       "      <td>0</td>\n",
       "      <td>0</td>\n",
       "    </tr>\n",
       "    <tr>\n",
       "      <th>482</th>\n",
       "      <td>18</td>\n",
       "      <td>31.350</td>\n",
       "      <td>0</td>\n",
       "      <td>0.0</td>\n",
       "      <td>0.0</td>\n",
       "      <td>1.0</td>\n",
       "      <td>0.0</td>\n",
       "      <td>0</td>\n",
       "      <td>0</td>\n",
       "    </tr>\n",
       "    <tr>\n",
       "      <th>...</th>\n",
       "      <td>...</td>\n",
       "      <td>...</td>\n",
       "      <td>...</td>\n",
       "      <td>...</td>\n",
       "      <td>...</td>\n",
       "      <td>...</td>\n",
       "      <td>...</td>\n",
       "      <td>...</td>\n",
       "      <td>...</td>\n",
       "    </tr>\n",
       "    <tr>\n",
       "      <th>763</th>\n",
       "      <td>27</td>\n",
       "      <td>26.030</td>\n",
       "      <td>0</td>\n",
       "      <td>1.0</td>\n",
       "      <td>0.0</td>\n",
       "      <td>0.0</td>\n",
       "      <td>0.0</td>\n",
       "      <td>1</td>\n",
       "      <td>0</td>\n",
       "    </tr>\n",
       "    <tr>\n",
       "      <th>835</th>\n",
       "      <td>42</td>\n",
       "      <td>35.970</td>\n",
       "      <td>2</td>\n",
       "      <td>0.0</td>\n",
       "      <td>0.0</td>\n",
       "      <td>1.0</td>\n",
       "      <td>0.0</td>\n",
       "      <td>1</td>\n",
       "      <td>0</td>\n",
       "    </tr>\n",
       "    <tr>\n",
       "      <th>1216</th>\n",
       "      <td>40</td>\n",
       "      <td>25.080</td>\n",
       "      <td>0</td>\n",
       "      <td>0.0</td>\n",
       "      <td>0.0</td>\n",
       "      <td>1.0</td>\n",
       "      <td>0.0</td>\n",
       "      <td>1</td>\n",
       "      <td>0</td>\n",
       "    </tr>\n",
       "    <tr>\n",
       "      <th>559</th>\n",
       "      <td>19</td>\n",
       "      <td>35.530</td>\n",
       "      <td>0</td>\n",
       "      <td>0.0</td>\n",
       "      <td>1.0</td>\n",
       "      <td>0.0</td>\n",
       "      <td>0.0</td>\n",
       "      <td>1</td>\n",
       "      <td>0</td>\n",
       "    </tr>\n",
       "    <tr>\n",
       "      <th>684</th>\n",
       "      <td>33</td>\n",
       "      <td>18.500</td>\n",
       "      <td>1</td>\n",
       "      <td>0.0</td>\n",
       "      <td>0.0</td>\n",
       "      <td>0.0</td>\n",
       "      <td>1.0</td>\n",
       "      <td>0</td>\n",
       "      <td>0</td>\n",
       "    </tr>\n",
       "  </tbody>\n",
       "</table>\n",
       "<p>896 rows × 9 columns</p>\n",
       "</div>"
      ],
      "text/plain": [
       "      age     bmi  children  northeast  northwest  southeast  southwest sex  \\\n",
       "1271   25  34.485         0        0.0        1.0        0.0        0.0   0   \n",
       "1313   19  34.700         2        0.0        0.0        0.0        1.0   0   \n",
       "2      28  33.000         3        0.0        0.0        1.0        0.0   1   \n",
       "405    52  38.380         2        1.0        0.0        0.0        0.0   0   \n",
       "482    18  31.350         0        0.0        0.0        1.0        0.0   0   \n",
       "...   ...     ...       ...        ...        ...        ...        ...  ..   \n",
       "763    27  26.030         0        1.0        0.0        0.0        0.0   1   \n",
       "835    42  35.970         2        0.0        0.0        1.0        0.0   1   \n",
       "1216   40  25.080         0        0.0        0.0        1.0        0.0   1   \n",
       "559    19  35.530         0        0.0        1.0        0.0        0.0   1   \n",
       "684    33  18.500         1        0.0        0.0        0.0        1.0   0   \n",
       "\n",
       "     smoker  \n",
       "1271      0  \n",
       "1313      1  \n",
       "2         0  \n",
       "405       0  \n",
       "482       0  \n",
       "...     ...  \n",
       "763       0  \n",
       "835       0  \n",
       "1216      0  \n",
       "559       0  \n",
       "684       0  \n",
       "\n",
       "[896 rows x 9 columns]"
      ]
     },
     "execution_count": 44,
     "metadata": {},
     "output_type": "execute_result"
    }
   ],
   "source": [
    "X_numerical = data[['age','bmi','children']].copy()\n",
    "X_final = pd.concat([X_numerical, region, sex, smoker], axis=1)\n",
    "y_final = data[['charges']].copy()\n",
    "\n",
    "# splitting into training and test set\n",
    "X_train, X_test, y_train, y_test = train_test_split(X_final, y_final, test_size = 0.33, random_state = 0)\n",
    "X_train"
   ]
  },
  {
   "cell_type": "markdown",
   "metadata": {},
   "source": [
    "### Standardizing features\n",
    "Take away the mean, and scale to unit variance. This is important for some machine learning algorithms to stop variables with larger values taking more precendent in the model training."
   ]
  },
  {
   "cell_type": "code",
   "execution_count": 45,
   "metadata": {
    "scrolled": true
   },
   "outputs": [
    {
     "name": "stdout",
     "output_type": "stream",
     "text": [
      "\n",
      "E.g.\n"
     ]
    },
    {
     "data": {
      "text/plain": [
       "array([[-1.03606235,  0.61468414, -0.91008919, ..., -0.58766091,\n",
       "        -0.98669564, -0.4996512 ],\n",
       "       [-1.46484381,  0.64957783,  0.7540739 , ...,  1.70166159,\n",
       "        -0.98669564,  2.00139616],\n",
       "       [-0.82167162,  0.37367425,  1.58615545, ..., -0.58766091,\n",
       "         1.01348375, -0.4996512 ],\n",
       "       ...,\n",
       "       [ 0.03589131, -0.91171181, -0.91008919, ..., -0.58766091,\n",
       "         1.01348375, -0.4996512 ],\n",
       "       [-1.46484381,  0.78428369, -0.91008919, ..., -0.58766091,\n",
       "         1.01348375, -0.4996512 ],\n",
       "       [-0.46435373, -1.97962095, -0.07800765, ...,  1.70166159,\n",
       "        -0.98669564, -0.4996512 ]])"
      ]
     },
     "metadata": {},
     "output_type": "display_data"
    }
   ],
   "source": [
    "# FEATURE SCALING\n",
    "\n",
    "# normalizing\n",
    "# scaler = MinMaxScaler()\n",
    "# X_train = scaler.fit_transform(X_train.astype(np.float))\n",
    "# X_test= scaler.transform(X_test.astype(np.float))\n",
    "\n",
    "# standardizing\n",
    "s_scaler = StandardScaler()\n",
    "X_train = s_scaler.fit_transform(X_train.astype(np.float))\n",
    "X_test = s_scaler.transform(X_test.astype(np.float))\n",
    "\n",
    "eg(X_train)"
   ]
  },
  {
   "cell_type": "markdown",
   "metadata": {},
   "source": [
    "## Maching learning models\n",
    "### Simple Linear Regression"
   ]
  },
  {
   "cell_type": "code",
   "execution_count": 60,
   "metadata": {},
   "outputs": [],
   "source": [
    "lr = LinearRegression()\n",
    "\n",
    "# train first\n",
    "lr.fit(X_train, y_train)\n",
    "\n",
    "# ... then predict--on both the training AND the test set\n",
    "y_train_prediction = lr.predict(X_train)\n",
    "y_test_prediction = lr.predict(X_test)"
   ]
  },
  {
   "cell_type": "markdown",
   "metadata": {},
   "source": [
    "### Example plot\n",
    "It is hard to plot this model because it is high dimension. However, for example purposes, I'll plot the age variable (column 0 from the design matrix) vs. the 'charges' variable which we are trying to predict. In other words, we're now looking at a 1 dimensional abstraction from the entire model. \n",
    "\n",
    "Note that the age variable (on the x-axis) has been standardized."
   ]
  },
  {
   "cell_type": "code",
   "execution_count": 114,
   "metadata": {},
   "outputs": [
    {
     "data": {
      "image/png": "[encoded data removed]",
      "text/plain": [
       "<Figure size 432x288 with 1 Axes>"
      ]
     },
     "metadata": {
      "needs_background": "light"
     },
     "output_type": "display_data"
    }
   ],
   "source": [
    "# training data\n",
    "plt.plot(X_train[:,0], y_train, '.', label=\"Training data\")\n",
    "\n",
    "# training features. Note that it doesn't matter whether we use\n",
    "# training or test data here; as they would both just be input \n",
    "# as the independent variables into the linear model below.\n",
    "_x = X_train[:,0].copy()\n",
    "\n",
    "# basic 1 dimensional linear model (i.e. y = mx + c) \n",
    "_prediction = _x * lr.coef_.ravel()[0] + lr.intercept_\n",
    "\n",
    "plt.plot(X_train[:,0], _prediction, label=\"Model prediction\")\n",
    "plt.legend(loc=\"upper left\")\n",
    "plt.ylabel(\"charges\")\n",
    "plt.xlabel(\"age (standardized)\");"
   ]
  },
  {
   "cell_type": "markdown",
   "metadata": {},
   "source": [
    "Back into the full dimensional system..."
   ]
  },
  {
   "cell_type": "code",
   "execution_count": 115,
   "metadata": {},
   "outputs": [
    {
     "name": "stdout",
     "output_type": "stream",
     "text": [
      "Gradient: [[3624.36356197 1966.90473927  661.35603447  242.57758422  -29.49212715\n",
      "  -104.19142495  -99.14488063  -44.54996175 9310.54961689]]\n",
      "Intercept: [13141.35083164]\n",
      "Training set score: 0.728; Test set score: 0.786\n"
     ]
    }
   ],
   "source": [
    "# print out the gradient and intercept of the line\n",
    "\n",
    "print(f\"Gradient: {lr.coef_}\")\n",
    "print(f\"Intercept: {lr.intercept_}\")\n",
    "\n",
    "print(\n",
    "    \"Training set score: %.3f; Test set score: %.3f\" % (\n",
    "        lr.score(X_train, y_train),\n",
    "        lr.score(X_test, y_test)\n",
    "))"
   ]
  },
  {
   "cell_type": "markdown",
   "metadata": {},
   "source": [
    "### POLYNOMIAL REGESSION\n",
    "Note that polynomial regression is still a subset of linear regression."
   ]
  },
  {
   "cell_type": "code",
   "execution_count": 116,
   "metadata": {},
   "outputs": [
    {
     "name": "stdout",
     "output_type": "stream",
     "text": [
      "Notice the huge change in number of columns:\n",
      "\n",
      "X_train_poly shape: \t(896, 220)\n",
      "X_test_poly shape: \t(442, 220)\n",
      "\n",
      "X_train shape: \t(896, 9)\n",
      "X_test shape: \t(442, 9)\n"
     ]
    }
   ],
   "source": [
    "from sklearn.preprocessing import PolynomialFeatures\n",
    "\n",
    "poly = PolynomialFeatures(degree=3)\n",
    "X_poly = poly.fit_transform(X_final)\n",
    "\n",
    "# could you put this line before making the X_poly matrix?\n",
    "X_train_poly, X_test_poly, y_train_poly, y_test_poly = train_test_split(X_poly, y_final, test_size=0.33, random_state=0)\n",
    "print(\"Notice the huge change in number of columns:\\n\")\n",
    "print(\"X_train_poly shape: \\t%s\" % str(X_train_poly.shape))\n",
    "print(\"X_test_poly shape: \\t%s\" % str(X_test_poly.shape))\n",
    "print()\n",
    "print(\"X_train shape: \\t%s\" % str(X_train.shape))\n",
    "print(\"X_test shape: \\t%s\" % str(X_test.shape))"
   ]
  },
  {
   "cell_type": "code",
   "execution_count": 117,
   "metadata": {},
   "outputs": [],
   "source": [
    "# standardizing\n",
    "\n",
    "#standard scaler (fit transform on train, fit only on test)\n",
    "sc = StandardScaler()\n",
    "X_train_final_poly = sc.fit_transform(X_train_poly.astype(np.float))\n",
    "X_test_final_poly = sc.transform(X_test_poly.astype(np.float))\n",
    "\n",
    "# (why do we not apply normalization?)"
   ]
  },
  {
   "cell_type": "code",
   "execution_count": 118,
   "metadata": {},
   "outputs": [],
   "source": [
    "poly_lr = LinearRegression()\n",
    "poly_lr.fit(X_train_final_poly, y_train_poly)\n",
    "\n",
    "# use these to make plots ...\n",
    "y_train_pred = poly_lr.predict(X_train_final_poly)\n",
    "y_test_pred = poly_lr.predict(X_test_poly)"
   ]
  },
  {
   "cell_type": "code",
   "execution_count": 119,
   "metadata": {},
   "outputs": [
    {
     "name": "stdout",
     "output_type": "stream",
     "text": [
      "[[ 1.38221886e-13 -2.00328934e+15  1.94967630e+15 -1.88619598e+15\n",
      "   7.07981961e+15  3.12607250e+15  2.90905638e+15  1.83393980e+15\n",
      "   3.89287551e+14 -4.66675630e+14  3.65619477e+14  1.05561285e+15\n",
      "   1.95500892e+14  1.75236367e+15  1.58085400e+15  5.68046159e+14\n",
      "   1.52617237e+15 -3.56727204e+14  2.38854263e+14 -5.64426982e+14\n",
      "  -8.40929241e+14 -2.00239750e+15 -1.95580622e+15 -2.29953448e+15\n",
      "  -2.39355706e+15  8.35623848e+13  1.26311680e+15  8.22272302e+13\n",
      "   3.11846624e+14  6.95081692e+14  5.85271490e+14  3.97941758e+14\n",
      "  -3.16334526e+14  3.92408934e+13 -7.69676750e+14  6.39476356e+13\n",
      "   1.41129610e+14 -1.78262473e+13  2.97137013e+14  6.61499215e+14\n",
      "   1.17501592e+15  1.09298561e+13  2.68296687e+13  6.82024709e+13\n",
      "   1.60635641e+14  1.44030776e+15  2.54221835e+13  3.15431509e+14\n",
      "  -6.83204359e+13  1.96335805e+15  1.40117735e+14  9.16214707e+13\n",
      "  -4.28731122e+14  5.84465169e+13 -3.24881093e+14 -1.89500000e+03\n",
      "   2.93025000e+03  4.61275000e+03 -3.02943233e+14 -3.10050034e+14\n",
      "  -3.14776629e+14 -3.03331101e+14 -2.77750000e+02 -3.19600000e+03\n",
      "   2.27443750e+03 -1.10875000e+02 -1.12363380e+15 -1.12535625e+15\n",
      "  -1.30819769e+15 -1.19294571e+15 -5.65431250e+03  3.95475000e+03\n",
      "   1.66181250e+03 -1.12186791e+14 -1.20185818e+14 -1.23560397e+14\n",
      "  -1.28816111e+14 -7.37500000e+00 -5.01375000e+02  8.39386979e+14\n",
      "   2.58499255e+12 -2.11653733e+12 -1.11321393e+12  5.35240821e+14\n",
      "   7.16272709e+13  1.06953879e+15 -1.30430737e+12  1.20572175e+12\n",
      "   5.52824002e+14  7.35855063e+13  2.13556771e+15 -2.96303412e+11\n",
      "   5.88758017e+14  9.05736315e+13  1.10457163e+15  5.42813998e+14\n",
      "   5.55851779e+13 -5.26516531e+14  1.12662500e+03 -3.76217910e+14\n",
      "  -1.46705000e+04 -8.12550000e+03  5.92350113e+14  5.78165892e+14\n",
      "   8.12580931e+14  6.59833938e+14 -5.14500000e+03  3.37500000e+02\n",
      "  -2.38200000e+03  4.71208523e+14  4.92713813e+14  5.64808190e+14\n",
      "   5.77477450e+14  1.48950000e+03 -3.81320312e+03 -1.99883985e+15\n",
      "   0.00000000e+00  0.00000000e+00  0.00000000e+00 -5.78495742e+13\n",
      "  -1.61583999e+14 -2.06783323e+15  0.00000000e+00  0.00000000e+00\n",
      "  -5.71162636e+13 -1.51623299e+14 -2.53477486e+15  0.00000000e+00\n",
      "  -7.32623094e+13 -2.19855184e+14 -1.92645352e+15 -6.34520958e+13\n",
      "  -1.56095412e+14  1.43253606e+13 -1.62412500e+03 -9.40900030e+14\n",
      "   1.12256250e+03 -4.35158725e+13 -4.07249156e+13 -4.34654669e+13\n",
      "  -5.67018796e+13 -1.45437500e+02  8.36250000e+02  8.33243314e+14\n",
      "   0.00000000e+00  0.00000000e+00  0.00000000e+00 -7.15951319e+13\n",
      "   7.12913806e+12  4.52891750e+14  0.00000000e+00  0.00000000e+00\n",
      "  -6.45795995e+13  7.08424407e+12  5.93143158e+14  0.00000000e+00\n",
      "  -6.88911618e+13  7.95434892e+12  9.22890727e+14 -7.66735071e+13\n",
      "   7.02413831e+12  4.44259279e+14 -1.17312500e+02 -5.33011180e+13\n",
      "  -7.80394302e+14  0.00000000e+00  0.00000000e+00  0.00000000e+00\n",
      "   5.26911978e+14  2.93799268e+13  0.00000000e+00  0.00000000e+00\n",
      "   0.00000000e+00  0.00000000e+00  0.00000000e+00  0.00000000e+00\n",
      "   0.00000000e+00  0.00000000e+00  0.00000000e+00  0.00000000e+00\n",
      "   0.00000000e+00  0.00000000e+00 -5.31571030e+14  1.29638817e+14\n",
      "   2.93799268e+13  1.31057910e+15  0.00000000e+00  0.00000000e+00\n",
      "   1.11531672e+14 -2.78407718e+14  0.00000000e+00  0.00000000e+00\n",
      "   0.00000000e+00  0.00000000e+00  0.00000000e+00  0.00000000e+00\n",
      "   0.00000000e+00  1.11531672e+14  1.05367738e+14  7.97860392e+14\n",
      "   1.48334511e+15  0.00000000e+00 -3.98971276e+14  4.53939266e+14\n",
      "   0.00000000e+00  0.00000000e+00  0.00000000e+00  3.97539839e+14\n",
      "   1.55641068e+14  4.53939266e+14  1.93345440e+15  7.85623710e+13\n",
      "   3.84212783e+14  7.85623710e+13  1.14092162e+14  1.69936240e+14\n",
      "  -4.15177244e+14 -7.33131541e+13 -2.29382485e+14 -5.41131907e+14]]\n",
      "\n",
      "[13131.04634292]\n"
     ]
    }
   ],
   "source": [
    "print(poly_lr.coef_)\n",
    "print()\n",
    "print(poly_lr.intercept_)"
   ]
  },
  {
   "cell_type": "code",
   "execution_count": 120,
   "metadata": {},
   "outputs": [
    {
     "name": "stdout",
     "output_type": "stream",
     "text": [
      "For comparisson:\n",
      "\n",
      "Simple linear train score: \t0.728; \tSimple linear test score: \t0.786\n",
      "Poly train score: \t\t0.841; \tPoly test score: \t\t0.854\n"
     ]
    }
   ],
   "source": [
    "print(\"For comparisson:\\n\\nSimple linear train score: \\t%.3f; \\tSimple linear test score: \\t%.3f\" % (\n",
    "    lr.score(X_train, y_train),\n",
    "    lr.score(X_test, y_test)\n",
    "))\n",
    "print(\"Poly train score: \\t\\t%.3f; \\tPoly test score: \\t\\t%.3f\" % (\n",
    "    poly_lr.score(X_train_final_poly, y_train_poly),\n",
    "    poly_lr.score(X_test_final_poly, y_test_poly)\n",
    "))"
   ]
  },
  {
   "cell_type": "markdown",
   "metadata": {},
   "source": [
    "### SUPPORT VECTOR REGRESSION"
   ]
  },
  {
   "cell_type": "code",
   "execution_count": 121,
   "metadata": {},
   "outputs": [],
   "source": [
    "X_train_SVR, X_test_SVR, y_train_SVR, y_test_SVR = train_test_split(X_final, y_final, test_size=0.33,\n",
    "                                                                    random_state=0)\n",
    "\n",
    "# SVR can be affected by outliers, so it's extra important to apply scaling. \n",
    "# Remember that the reason we want to scale is because we want to avoid features\n",
    "# with larger values to dominate the model result.\n",
    "sc = StandardScaler()\n",
    "X_train_SVR = sc.fit_transform(X_train_SVR.astype(np.float))\n",
    "X_test_SVR = sc.fit_transform(X_test_SVR.astype(np.float))\n"
   ]
  },
  {
   "cell_type": "code",
   "execution_count": 122,
   "metadata": {},
   "outputs": [
    {
     "data": {
      "text/plain": [
       "SVR(C=300, kernel='linear')"
      ]
     },
     "execution_count": 122,
     "metadata": {},
     "output_type": "execute_result"
    }
   ],
   "source": [
    "svr = SVR(kernel=\"linear\", C=300)\n",
    "svr.fit(X_train_SVR, y_train_SVR.values[:,0])"
   ]
  },
  {
   "cell_type": "code",
   "execution_count": 123,
   "metadata": {},
   "outputs": [],
   "source": [
    "y_train_pred = svr.predict(X_train_SVR)\n",
    "y_test_pred = svr.predict(X_test_SVR)"
   ]
  },
  {
   "cell_type": "code",
   "execution_count": 124,
   "metadata": {},
   "outputs": [
    {
     "name": "stdout",
     "output_type": "stream",
     "text": [
      "For comparisson:\n",
      "\n",
      "Simple linear train score: \t0.728; \tSimple linear test score: \t0.786\n",
      "Poly train score: \t\t0.841; \tPoly test score: \t\t0.854\n",
      "SVR train score: \t\t0.598; \tSVR test score: \t\t0.619\n",
      "\n",
      "Note: the SVR test score comes out slightly differently to the instructor's example...\n",
      "Theirs comes out as 0.628.\n"
     ]
    }
   ],
   "source": [
    "print(\"For comparisson:\\n\\nSimple linear train score: \\t%.3f; \\tSimple linear test score: \\t%.3f\" % (\n",
    "    lr.score(X_train, y_train),\n",
    "    lr.score(X_test, y_test)\n",
    "))\n",
    "print(\"Poly train score: \\t\\t%.3f; \\tPoly test score: \\t\\t%.3f\" % (\n",
    "    poly_lr.score(X_train_final_poly, y_train_poly),\n",
    "    poly_lr.score(X_test_final_poly, y_test_poly)\n",
    "))\n",
    "print(\"SVR train score: \\t\\t%.3f; \\tSVR test score: \\t\\t%.3f\" % (\n",
    "    svr.score(X_train_SVR, y_train_SVR),\n",
    "    svr.score(X_test_SVR, y_test_SVR)\n",
    "))\n",
    "print(\"\\nNote: the SVR test score comes out slightly differently to the instructor's example...\"\n",
    "      \"\\nTheirs comes out as 0.628.\")"
   ]
  },
  {
   "cell_type": "markdown",
   "metadata": {},
   "source": [
    "### DECISION TREE REGRESSION"
   ]
  },
  {
   "cell_type": "code",
   "execution_count": 125,
   "metadata": {},
   "outputs": [
    {
     "name": "stdout",
     "output_type": "stream",
     "text": [
      "For comparisson:\n",
      "\n",
      "Simple linear train score: \t0.728; \tSimple linear test score: \t0.786\n",
      "Poly train score: \t\t0.841; \tPoly test score: \t\t0.854\n",
      "SVR train score: \t\t0.598; \tSVR test score: \t\t0.619\n",
      "DTR train score: \t\t1.000; \tDTR test score: \t\t0.697\n",
      "\n",
      "Notice the test score is worse than the training score. This shows the model is overfit.\n",
      "This is the tendency for tree regressors.\n"
     ]
    }
   ],
   "source": [
    "X_train_dt, X_test_dt, y_train_dt, y_test_dt = split_and_scale(X_final, y_final, random_state=0)\n",
    "\n",
    "dt = DecisionTreeRegressor(random_state=0)\n",
    "dt.fit(X_train_dt, y_train_dt.values[:,0])\n",
    "\n",
    "y_train_pred = dt.predict(X_train_dt)\n",
    "y_test_pred = dt.predict(X_test_dt)\n",
    "\n",
    "print(\"For comparisson:\\n\\nSimple linear train score: \\t%.3f; \\tSimple linear test score: \\t%.3f\" % (\n",
    "    lr.score(X_train, y_train),\n",
    "    lr.score(X_test, y_test)\n",
    "))\n",
    "print(\"Poly train score: \\t\\t%.3f; \\tPoly test score: \\t\\t%.3f\" % (\n",
    "    poly_lr.score(X_train_final_poly, y_train_poly),\n",
    "    poly_lr.score(X_test_final_poly, y_test_poly)\n",
    "))\n",
    "print(\"SVR train score: \\t\\t%.3f; \\tSVR test score: \\t\\t%.3f\" % (\n",
    "    svr.score(X_train_SVR, y_train_SVR),\n",
    "    svr.score(X_test_SVR, y_test_SVR)\n",
    "))\n",
    "print(\"DTR train score: \\t\\t%.3f; \\tDTR test score: \\t\\t%.3f\" % (\n",
    "    dt.score(X_train_dt, y_train_dt),\n",
    "    dt.score(X_test_dt, y_test_dt)\n",
    "))\n",
    "print(\n",
    "    \"\\nNotice the test score is worse than the training score. This shows the model is overfit.\"\n",
    "    \"\\nThis is the tendency for tree regressors.\"\n",
    ")"
   ]
  },
  {
   "cell_type": "markdown",
   "metadata": {},
   "source": [
    "### RANDOM FOREST REGRESSION"
   ]
  },
  {
   "cell_type": "code",
   "execution_count": 126,
   "metadata": {},
   "outputs": [
    {
     "name": "stdout",
     "output_type": "stream",
     "text": [
      "For comparisson:\n",
      "\n",
      "Simple linear train score: \t0.728; \tSimple linear test score: \t0.786\n",
      "Poly train score: \t\t0.841; \tPoly test score: \t\t0.854\n",
      "SVR train score: \t\t0.598; \tSVR test score: \t\t0.619\n",
      "DTR train score: \t\t1.000; \tDTR test score: \t\t0.697\n",
      "RF train score: \t\t0.979; \tRF test score: \t\t\t0.816\n",
      "Notice that in this 'ensemble learning method' (that is, the random forest),\n",
      "the test score is much better when compared to a single tree.\n"
     ]
    }
   ],
   "source": [
    "X_train_rf, X_test_rf, y_train_rf, y_test_rf = split_and_scale(X_final, y_final, random_state=0)\n",
    "\n",
    "forest = RandomForestRegressor(n_estimators = 100,\n",
    "                              criterion = 'mse',\n",
    "                              random_state = 1,\n",
    "                              n_jobs = -1)\n",
    "forest.fit(X_train_rf, y_train_rf.values[:,0])\n",
    "y_train_pred = forest.predict(X_train_rf)\n",
    "y_test_pred = forest.predict(X_test_rf)\n",
    "\n",
    "print(\"For comparisson:\\n\\nSimple linear train score: \\t%.3f; \\tSimple linear test score: \\t%.3f\" % (\n",
    "    lr.score(X_train, y_train),\n",
    "    lr.score(X_test, y_test)\n",
    "))\n",
    "print(\"Poly train score: \\t\\t%.3f; \\tPoly test score: \\t\\t%.3f\" % (\n",
    "    poly_lr.score(X_train_final_poly, y_train_poly),\n",
    "    poly_lr.score(X_test_final_poly, y_test_poly)\n",
    "))\n",
    "print(\"SVR train score: \\t\\t%.3f; \\tSVR test score: \\t\\t%.3f\" % (\n",
    "    svr.score(X_train_SVR, y_train_SVR),\n",
    "    svr.score(X_test_SVR, y_test_SVR)\n",
    "))\n",
    "print(\"DTR train score: \\t\\t%.3f; \\tDTR test score: \\t\\t%.3f\" % (\n",
    "    dt.score(X_train_dt, y_train_dt),\n",
    "    dt.score(X_test_dt, y_test_dt)\n",
    "))\n",
    "print(\"RF train score: \\t\\t%.3f; \\tRF test score: \\t\\t\\t%.3f\" % (\n",
    "    forest.score(X_train_rf, y_train_rf),\n",
    "    forest.score(X_test_rf, y_test_rf)\n",
    "))\n",
    "print(\n",
    "    \"Notice that in this 'ensemble learning method' (that is, the random forest),\\n\"\n",
    "    \"the test score is much better when compared to a single tree.\"    \n",
    ")"
   ]
  },
  {
   "cell_type": "code",
   "execution_count": 127,
   "metadata": {},
   "outputs": [
    {
     "name": "stdout",
     "output_type": "stream",
     "text": [
      "Fitting 5 folds for each of 24 candidates, totalling 120 fits\n",
      "[CV 1/5] END .C=600, degree=2, epsilon=0.0001, kernel=linear; total time=   0.0s\n",
      "[CV 2/5] END .C=600, degree=2, epsilon=0.0001, kernel=linear; total time=   0.0s\n",
      "[CV 3/5] END .C=600, degree=2, epsilon=0.0001, kernel=linear; total time=   0.0s\n",
      "[CV 4/5] END .C=600, degree=2, epsilon=0.0001, kernel=linear; total time=   0.0s\n",
      "[CV 5/5] END .C=600, degree=2, epsilon=0.0001, kernel=linear; total time=   0.0s\n",
      "[CV 1/5] END ...C=600, degree=2, epsilon=0.0001, kernel=poly; total time=   0.0s\n",
      "[CV 2/5] END ...C=600, degree=2, epsilon=0.0001, kernel=poly; total time=   0.0s\n",
      "[CV 3/5] END ...C=600, degree=2, epsilon=0.0001, kernel=poly; total time=   0.0s\n",
      "[CV 4/5] END ...C=600, degree=2, epsilon=0.0001, kernel=poly; total time=   0.0s\n",
      "[CV 5/5] END ...C=600, degree=2, epsilon=0.0001, kernel=poly; total time=   0.0s\n",
      "[CV 1/5] END ..C=600, degree=2, epsilon=1e-05, kernel=linear; total time=   0.0s\n",
      "[CV 2/5] END ..C=600, degree=2, epsilon=1e-05, kernel=linear; total time=   0.0s\n",
      "[CV 3/5] END ..C=600, degree=2, epsilon=1e-05, kernel=linear; total time=   0.0s\n",
      "[CV 4/5] END ..C=600, degree=2, epsilon=1e-05, kernel=linear; total time=   0.0s\n",
      "[CV 5/5] END ..C=600, degree=2, epsilon=1e-05, kernel=linear; total time=   0.0s\n",
      "[CV 1/5] END ....C=600, degree=2, epsilon=1e-05, kernel=poly; total time=   0.0s\n",
      "[CV 2/5] END ....C=600, degree=2, epsilon=1e-05, kernel=poly; total time=   0.0s\n",
      "[CV 3/5] END ....C=600, degree=2, epsilon=1e-05, kernel=poly; total time=   0.0s\n",
      "[CV 4/5] END ....C=600, degree=2, epsilon=1e-05, kernel=poly; total time=   0.0s\n",
      "[CV 5/5] END ....C=600, degree=2, epsilon=1e-05, kernel=poly; total time=   0.0s\n",
      "[CV 1/5] END ..C=600, degree=2, epsilon=1e-06, kernel=linear; total time=   0.0s\n",
      "[CV 2/5] END ..C=600, degree=2, epsilon=1e-06, kernel=linear; total time=   0.0s\n",
      "[CV 3/5] END ..C=600, degree=2, epsilon=1e-06, kernel=linear; total time=   0.0s\n",
      "[CV 4/5] END ..C=600, degree=2, epsilon=1e-06, kernel=linear; total time=   0.0s\n",
      "[CV 5/5] END ..C=600, degree=2, epsilon=1e-06, kernel=linear; total time=   0.0s\n",
      "[CV 1/5] END ....C=600, degree=2, epsilon=1e-06, kernel=poly; total time=   0.0s\n",
      "[CV 2/5] END ....C=600, degree=2, epsilon=1e-06, kernel=poly; total time=   0.0s\n",
      "[CV 3/5] END ....C=600, degree=2, epsilon=1e-06, kernel=poly; total time=   0.0s\n",
      "[CV 4/5] END ....C=600, degree=2, epsilon=1e-06, kernel=poly; total time=   0.0s\n",
      "[CV 5/5] END ....C=600, degree=2, epsilon=1e-06, kernel=poly; total time=   0.0s\n",
      "[CV 1/5] END .C=700, degree=2, epsilon=0.0001, kernel=linear; total time=   0.0s\n",
      "[CV 2/5] END .C=700, degree=2, epsilon=0.0001, kernel=linear; total time=   0.0s\n",
      "[CV 3/5] END .C=700, degree=2, epsilon=0.0001, kernel=linear; total time=   0.0s\n",
      "[CV 4/5] END .C=700, degree=2, epsilon=0.0001, kernel=linear; total time=   0.0s\n",
      "[CV 5/5] END .C=700, degree=2, epsilon=0.0001, kernel=linear; total time=   0.0s\n",
      "[CV 1/5] END ...C=700, degree=2, epsilon=0.0001, kernel=poly; total time=   0.0s\n",
      "[CV 2/5] END ...C=700, degree=2, epsilon=0.0001, kernel=poly; total time=   0.0s\n",
      "[CV 3/5] END ...C=700, degree=2, epsilon=0.0001, kernel=poly; total time=   0.0s\n",
      "[CV 4/5] END ...C=700, degree=2, epsilon=0.0001, kernel=poly; total time=   0.0s\n",
      "[CV 5/5] END ...C=700, degree=2, epsilon=0.0001, kernel=poly; total time=   0.0s\n",
      "[CV 1/5] END ..C=700, degree=2, epsilon=1e-05, kernel=linear; total time=   0.0s\n",
      "[CV 2/5] END ..C=700, degree=2, epsilon=1e-05, kernel=linear; total time=   0.0s\n",
      "[CV 3/5] END ..C=700, degree=2, epsilon=1e-05, kernel=linear; total time=   0.0s\n",
      "[CV 4/5] END ..C=700, degree=2, epsilon=1e-05, kernel=linear; total time=   0.0s\n",
      "[CV 5/5] END ..C=700, degree=2, epsilon=1e-05, kernel=linear; total time=   0.0s\n",
      "[CV 1/5] END ....C=700, degree=2, epsilon=1e-05, kernel=poly; total time=   0.0s\n",
      "[CV 2/5] END ....C=700, degree=2, epsilon=1e-05, kernel=poly; total time=   0.0s\n",
      "[CV 3/5] END ....C=700, degree=2, epsilon=1e-05, kernel=poly; total time=   0.0s\n",
      "[CV 4/5] END ....C=700, degree=2, epsilon=1e-05, kernel=poly; total time=   0.0s\n",
      "[CV 5/5] END ....C=700, degree=2, epsilon=1e-05, kernel=poly; total time=   0.0s\n",
      "[CV 1/5] END ..C=700, degree=2, epsilon=1e-06, kernel=linear; total time=   0.0s\n",
      "[CV 2/5] END ..C=700, degree=2, epsilon=1e-06, kernel=linear; total time=   0.0s\n",
      "[CV 3/5] END ..C=700, degree=2, epsilon=1e-06, kernel=linear; total time=   0.0s\n",
      "[CV 4/5] END ..C=700, degree=2, epsilon=1e-06, kernel=linear; total time=   0.0s\n",
      "[CV 5/5] END ..C=700, degree=2, epsilon=1e-06, kernel=linear; total time=   0.0s\n",
      "[CV 1/5] END ....C=700, degree=2, epsilon=1e-06, kernel=poly; total time=   0.0s\n",
      "[CV 2/5] END ....C=700, degree=2, epsilon=1e-06, kernel=poly; total time=   0.0s\n",
      "[CV 3/5] END ....C=700, degree=2, epsilon=1e-06, kernel=poly; total time=   0.0s\n",
      "[CV 4/5] END ....C=700, degree=2, epsilon=1e-06, kernel=poly; total time=   0.0s\n",
      "[CV 5/5] END ....C=700, degree=2, epsilon=1e-06, kernel=poly; total time=   0.0s\n",
      "[CV 1/5] END .C=800, degree=2, epsilon=0.0001, kernel=linear; total time=   0.0s\n",
      "[CV 2/5] END .C=800, degree=2, epsilon=0.0001, kernel=linear; total time=   0.0s\n",
      "[CV 3/5] END .C=800, degree=2, epsilon=0.0001, kernel=linear; total time=   0.0s\n",
      "[CV 4/5] END .C=800, degree=2, epsilon=0.0001, kernel=linear; total time=   0.0s\n",
      "[CV 5/5] END .C=800, degree=2, epsilon=0.0001, kernel=linear; total time=   0.0s\n",
      "[CV 1/5] END ...C=800, degree=2, epsilon=0.0001, kernel=poly; total time=   0.0s\n",
      "[CV 2/5] END ...C=800, degree=2, epsilon=0.0001, kernel=poly; total time=   0.0s\n",
      "[CV 3/5] END ...C=800, degree=2, epsilon=0.0001, kernel=poly; total time=   0.0s\n",
      "[CV 4/5] END ...C=800, degree=2, epsilon=0.0001, kernel=poly; total time=   0.0s\n",
      "[CV 5/5] END ...C=800, degree=2, epsilon=0.0001, kernel=poly; total time=   0.0s\n",
      "[CV 1/5] END ..C=800, degree=2, epsilon=1e-05, kernel=linear; total time=   0.0s\n",
      "[CV 2/5] END ..C=800, degree=2, epsilon=1e-05, kernel=linear; total time=   0.0s\n",
      "[CV 3/5] END ..C=800, degree=2, epsilon=1e-05, kernel=linear; total time=   0.0s\n",
      "[CV 4/5] END ..C=800, degree=2, epsilon=1e-05, kernel=linear; total time=   0.0s\n",
      "[CV 5/5] END ..C=800, degree=2, epsilon=1e-05, kernel=linear; total time=   0.0s\n",
      "[CV 1/5] END ....C=800, degree=2, epsilon=1e-05, kernel=poly; total time=   0.0s\n",
      "[CV 2/5] END ....C=800, degree=2, epsilon=1e-05, kernel=poly; total time=   0.0s\n",
      "[CV 3/5] END ....C=800, degree=2, epsilon=1e-05, kernel=poly; total time=   0.0s\n",
      "[CV 4/5] END ....C=800, degree=2, epsilon=1e-05, kernel=poly; total time=   0.0s\n",
      "[CV 5/5] END ....C=800, degree=2, epsilon=1e-05, kernel=poly; total time=   0.0s\n",
      "[CV 1/5] END ..C=800, degree=2, epsilon=1e-06, kernel=linear; total time=   0.0s\n",
      "[CV 2/5] END ..C=800, degree=2, epsilon=1e-06, kernel=linear; total time=   0.0s\n",
      "[CV 3/5] END ..C=800, degree=2, epsilon=1e-06, kernel=linear; total time=   0.0s\n",
      "[CV 4/5] END ..C=800, degree=2, epsilon=1e-06, kernel=linear; total time=   0.0s\n",
      "[CV 5/5] END ..C=800, degree=2, epsilon=1e-06, kernel=linear; total time=   0.0s\n",
      "[CV 1/5] END ....C=800, degree=2, epsilon=1e-06, kernel=poly; total time=   0.0s\n",
      "[CV 2/5] END ....C=800, degree=2, epsilon=1e-06, kernel=poly; total time=   0.0s\n",
      "[CV 3/5] END ....C=800, degree=2, epsilon=1e-06, kernel=poly; total time=   0.0s\n",
      "[CV 4/5] END ....C=800, degree=2, epsilon=1e-06, kernel=poly; total time=   0.0s\n",
      "[CV 5/5] END ....C=800, degree=2, epsilon=1e-06, kernel=poly; total time=   0.0s\n",
      "[CV 1/5] END .C=900, degree=2, epsilon=0.0001, kernel=linear; total time=   0.0s\n",
      "[CV 2/5] END .C=900, degree=2, epsilon=0.0001, kernel=linear; total time=   0.0s\n",
      "[CV 3/5] END .C=900, degree=2, epsilon=0.0001, kernel=linear; total time=   0.0s\n",
      "[CV 4/5] END .C=900, degree=2, epsilon=0.0001, kernel=linear; total time=   0.0s\n",
      "[CV 5/5] END .C=900, degree=2, epsilon=0.0001, kernel=linear; total time=   0.0s\n",
      "[CV 1/5] END ...C=900, degree=2, epsilon=0.0001, kernel=poly; total time=   0.0s\n",
      "[CV 2/5] END ...C=900, degree=2, epsilon=0.0001, kernel=poly; total time=   0.0s\n",
      "[CV 3/5] END ...C=900, degree=2, epsilon=0.0001, kernel=poly; total time=   0.0s\n",
      "[CV 4/5] END ...C=900, degree=2, epsilon=0.0001, kernel=poly; total time=   0.0s\n",
      "[CV 5/5] END ...C=900, degree=2, epsilon=0.0001, kernel=poly; total time=   0.0s\n",
      "[CV 1/5] END ..C=900, degree=2, epsilon=1e-05, kernel=linear; total time=   0.0s\n",
      "[CV 2/5] END ..C=900, degree=2, epsilon=1e-05, kernel=linear; total time=   0.0s\n",
      "[CV 3/5] END ..C=900, degree=2, epsilon=1e-05, kernel=linear; total time=   0.0s\n",
      "[CV 4/5] END ..C=900, degree=2, epsilon=1e-05, kernel=linear; total time=   0.0s\n",
      "[CV 5/5] END ..C=900, degree=2, epsilon=1e-05, kernel=linear; total time=   0.0s\n",
      "[CV 1/5] END ....C=900, degree=2, epsilon=1e-05, kernel=poly; total time=   0.0s\n"
     ]
    },
    {
     "name": "stdout",
     "output_type": "stream",
     "text": [
      "[CV 2/5] END ....C=900, degree=2, epsilon=1e-05, kernel=poly; total time=   0.0s\n",
      "[CV 3/5] END ....C=900, degree=2, epsilon=1e-05, kernel=poly; total time=   0.0s\n",
      "[CV 4/5] END ....C=900, degree=2, epsilon=1e-05, kernel=poly; total time=   0.0s\n",
      "[CV 5/5] END ....C=900, degree=2, epsilon=1e-05, kernel=poly; total time=   0.0s\n",
      "[CV 1/5] END ..C=900, degree=2, epsilon=1e-06, kernel=linear; total time=   0.0s\n",
      "[CV 2/5] END ..C=900, degree=2, epsilon=1e-06, kernel=linear; total time=   0.0s\n",
      "[CV 3/5] END ..C=900, degree=2, epsilon=1e-06, kernel=linear; total time=   0.0s\n",
      "[CV 4/5] END ..C=900, degree=2, epsilon=1e-06, kernel=linear; total time=   0.0s\n",
      "[CV 5/5] END ..C=900, degree=2, epsilon=1e-06, kernel=linear; total time=   0.0s\n",
      "[CV 1/5] END ....C=900, degree=2, epsilon=1e-06, kernel=poly; total time=   0.0s\n",
      "[CV 2/5] END ....C=900, degree=2, epsilon=1e-06, kernel=poly; total time=   0.0s\n",
      "[CV 3/5] END ....C=900, degree=2, epsilon=1e-06, kernel=poly; total time=   0.0s\n",
      "[CV 4/5] END ....C=900, degree=2, epsilon=1e-06, kernel=poly; total time=   0.0s\n",
      "[CV 5/5] END ....C=900, degree=2, epsilon=1e-06, kernel=poly; total time=   0.0s\n"
     ]
    },
    {
     "data": {
      "text/plain": [
       "GridSearchCV(cv=5, estimator=SVR(),\n",
       "             param_grid={'C': [600, 700, 800, 900], 'degree': [2],\n",
       "                         'epsilon': [0.0001, 1e-05, 1e-06],\n",
       "                         'kernel': ['linear', 'poly']},\n",
       "             verbose=3)"
      ]
     },
     "execution_count": 127,
     "metadata": {},
     "output_type": "execute_result"
    }
   ],
   "source": [
    "# HYPERPARAMETER OPTIMIZATION for support vector regressioin\n",
    "\n",
    "#Function to print best hyperparamaters: \n",
    "def print_best_params(gd_model):\n",
    "    param_dict = gd_model.best_estimator_.get_params()\n",
    "    model_str = str(gd_model.estimator).split('(')[0]\n",
    "    print(\"\\n*** {} Best Parameters ***\".format(model_str))\n",
    "    for k in param_dict:\n",
    "        print(\"{}: {}\".format(k, param_dict[k]))\n",
    "    print()\n",
    "\n",
    "X_train_, X_test_, y_train_, y_test_ = split_and_scale(X_final, y_final, random_state=0)\n",
    "\n",
    "# parameters that the model can take on.\n",
    "# C: penalty parameter on the error term.\n",
    "# epsilon: margin of tolerance where no penalty is given to errors\n",
    "param_grid = dict(\n",
    "    kernel=     ['linear', 'poly'],\n",
    "    degree=     [2],\n",
    "    C=          [600, 700, 800, 900],\n",
    "    epsilon=    [0.0001, 0.00001, 0.000001]\n",
    ")\n",
    "\n",
    "# return a GridSearchCV object.\n",
    "# cv: cross validation\n",
    "svr_gridsearch = GridSearchCV(SVR(), param_grid=param_grid, cv=5, verbose=3)\n",
    "\n",
    "svr_gridsearch.fit(X_train_, y_train_.values[:,0])\n"
   ]
  },
  {
   "cell_type": "code",
   "execution_count": 130,
   "metadata": {},
   "outputs": [
    {
     "name": "stdout",
     "output_type": "stream",
     "text": [
      "\n",
      "*** SVR Best Parameters ***\n",
      "C: 800\n",
      "cache_size: 200\n",
      "coef0: 0.0\n",
      "degree: 2\n",
      "epsilon: 1e-05\n",
      "gamma: scale\n",
      "kernel: linear\n",
      "max_iter: -1\n",
      "shrinking: True\n",
      "tol: 0.001\n",
      "verbose: False\n",
      "\n"
     ]
    }
   ],
   "source": [
    "print_best_params(svr_gridsearch)"
   ]
  },
  {
   "cell_type": "code",
   "execution_count": 129,
   "metadata": {},
   "outputs": [
    {
     "name": "stdout",
     "output_type": "stream",
     "text": [
      "For comparisson:\n",
      "\n",
      "Simple linear train score: \t0.728; \tSimple linear test score: \t0.786\n",
      "Poly train score: \t\t0.841; \tPoly test score: \t\t0.854\n",
      "SVR train score: \t\t0.598; \tSVR test score: \t\t0.619\n",
      "DTR train score: \t\t1.000; \tDTR test score: \t\t0.697\n",
      "RF train score: \t\t0.979; \tRF test score: \t\t\t0.816\n",
      "SVR train score (grid search): \t0.687; \tSVR test score (grid search): \t0.632\n"
     ]
    }
   ],
   "source": [
    "print(\"For comparisson:\\n\\nSimple linear train score: \\t%.3f; \\tSimple linear test score: \\t%.3f\" % (\n",
    "    lr.score(X_train, y_train),\n",
    "    lr.score(X_test, y_test)\n",
    "))\n",
    "print(\"Poly train score: \\t\\t%.3f; \\tPoly test score: \\t\\t%.3f\" % (\n",
    "    poly_lr.score(X_train_final_poly, y_train_poly),\n",
    "    poly_lr.score(X_test_final_poly, y_test_poly)\n",
    "))\n",
    "print(\"SVR train score: \\t\\t%.3f; \\tSVR test score: \\t\\t%.3f\" % (\n",
    "    svr.score(X_train_SVR, y_train_SVR),\n",
    "    svr.score(X_test_SVR, y_test_SVR)\n",
    "))\n",
    "print(\"DTR train score: \\t\\t%.3f; \\tDTR test score: \\t\\t%.3f\" % (\n",
    "    dt.score(X_train_dt, y_train_dt),\n",
    "    dt.score(X_test_dt, y_test_dt)\n",
    "))\n",
    "print(\"RF train score: \\t\\t%.3f; \\tRF test score: \\t\\t\\t%.3f\" % (\n",
    "    forest.score(X_train_rf, y_train_rf),\n",
    "    forest.score(X_test_rf, y_test_rf)\n",
    "))\n",
    "print(\"SVR train score (grid search): \\t%.3f; \\tSVR test score (grid search): \\t%.3f\" % (\n",
    "    svr_gridsearch.score(X_train_, y_train_),\n",
    "    svr_gridsearch.score(X_test_, y_test_)\n",
    "))"
   ]
  },
  {
   "cell_type": "markdown",
   "metadata": {},
   "source": [
    "### HYPER PARAMETER OPTIMZATION: TREE MODEL AND RANDOM FOREST MODEL"
   ]
  },
  {
   "cell_type": "code",
   "execution_count": 131,
   "metadata": {},
   "outputs": [
    {
     "data": {
      "text/plain": [
       "GridSearchCV(cv=5, estimator=DecisionTreeRegressor(random_state=0),\n",
       "             param_grid={'criterion': ['mse', 'friedman_mse', 'mae', 'poisson'],\n",
       "                         'max_depth': [1, 2, 3, 4, 5, 6, None],\n",
       "                         'max_features': ['auto', 'sqrt', 'log2']})"
      ]
     },
     "execution_count": 131,
     "metadata": {},
     "output_type": "execute_result"
    }
   ],
   "source": [
    "X_train__, X_test__, y_train__, y_test__ = split_and_scale(X_final, y_final, random_state=0)\n",
    "\n",
    "# decision tree model\n",
    "param_grid = dict(\n",
    "    max_depth =     [1,2,3,4,5,6,None],\n",
    "    max_features =  ['auto', 'sqrt', 'log2'],\n",
    "    criterion =     [\"mse\",\"friedman_mse\", \"mae\", \"poisson\"]\n",
    ")\n",
    "\n",
    "tree_gridsearch = GridSearchCV(\n",
    "    DecisionTreeRegressor(random_state=0), \n",
    "    param_grid=param_grid, \n",
    "    cv=5)\n",
    "\n",
    "tree_gridsearch.fit(X_train__, y_train__.values[:,0])"
   ]
  },
  {
   "cell_type": "code",
   "execution_count": 132,
   "metadata": {},
   "outputs": [
    {
     "name": "stdout",
     "output_type": "stream",
     "text": [
      "For comparisson:\n",
      "\n",
      "Simple linear train score: \t0.728; \tSimple linear test score: \t0.786\n",
      "Poly train score: \t\t0.841; \tPoly test score: \t\t0.854\n",
      "SVR train score: \t\t0.598; \tSVR test score: \t\t0.619\n",
      "DTR train score: \t\t1.000; \tDTR test score: \t\t0.697\n",
      "RF train score: \t\t0.979; \tRF test score: \t\t\t0.816\n",
      "SVR train score (grid search): \t0.687; \tSVR test score (grid search): \t0.632\n",
      "DTR train score (grid search): \t0.857; \tDTR test score (grid search): \t0.839\n"
     ]
    }
   ],
   "source": [
    "print(\"For comparisson:\\n\\nSimple linear train score: \\t%.3f; \\tSimple linear test score: \\t%.3f\" % (\n",
    "    lr.score(X_train, y_train),\n",
    "    lr.score(X_test, y_test)\n",
    "))\n",
    "print(\"Poly train score: \\t\\t%.3f; \\tPoly test score: \\t\\t%.3f\" % (\n",
    "    poly_lr.score(X_train_final_poly, y_train_poly),\n",
    "    poly_lr.score(X_test_final_poly, y_test_poly)\n",
    "))\n",
    "print(\"SVR train score: \\t\\t%.3f; \\tSVR test score: \\t\\t%.3f\" % (\n",
    "    svr.score(X_train_SVR, y_train_SVR),\n",
    "    svr.score(X_test_SVR, y_test_SVR)\n",
    "))\n",
    "print(\"DTR train score: \\t\\t%.3f; \\tDTR test score: \\t\\t%.3f\" % (\n",
    "    dt.score(X_train_dt, y_train_dt),\n",
    "    dt.score(X_test_dt, y_test_dt)\n",
    "))\n",
    "print(\"RF train score: \\t\\t%.3f; \\tRF test score: \\t\\t\\t%.3f\" % (\n",
    "    forest.score(X_train_rf, y_train_rf),\n",
    "    forest.score(X_test_rf, y_test_rf)\n",
    "))\n",
    "print(\"SVR train score (grid search): \\t%.3f; \\tSVR test score (grid search): \\t%.3f\" % (\n",
    "    svr_gridsearch.score(X_train_, y_train_),\n",
    "    svr_gridsearch.score(X_test_, y_test_)\n",
    "))\n",
    "print(\"DTR train score (grid search): \\t%.3f; \\tDTR test score (grid search): \\t%.3f\" % (\n",
    "    tree_gridsearch.score(X_train__, y_train__),\n",
    "    tree_gridsearch.score(X_test__, y_test__)\n",
    "))"
   ]
  }
 ],
 "metadata": {
  "kernelspec": {
   "display_name": "Python 3",
   "language": "python",
   "name": "python3"
  },
  "language_info": {
   "codemirror_mode": {
    "name": "ipython",
    "version": 3
   },
   "file_extension": ".py",
   "mimetype": "text/x-python",
   "name": "python",
   "nbconvert_exporter": "python",
   "pygments_lexer": "ipython3",
   "version": "3.7.7"
  }
 },
 "nbformat": 4,
 "nbformat_minor": 4
}
